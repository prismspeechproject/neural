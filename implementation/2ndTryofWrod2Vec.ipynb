{
 "cells": [
  {
   "cell_type": "code",
   "execution_count": 24,
   "metadata": {},
   "outputs": [],
   "source": [
    "import nltk\n",
    "import pandas as pd\n",
    "from gensim.models import word2vec\n"
   ]
  },
  {
   "cell_type": "code",
   "execution_count": 25,
   "metadata": {},
   "outputs": [
    {
     "data": {
      "text/plain": [
       "0          Help!\n",
       "1          Jump.\n",
       "2          Jump.\n",
       "3          Jump.\n",
       "4         Hello!\n",
       "5         Hello!\n",
       "6        Cheers!\n",
       "7        Cheers!\n",
       "8        Got it?\n",
       "9        I'm OK.\n",
       "10      Awesome!\n",
       "11      Come in.\n",
       "12      Get out!\n",
       "13      Go away!\n",
       "14      Goodbye!\n",
       "15      Perfect!\n",
       "16      Perfect!\n",
       "17      Welcome.\n",
       "18      Welcome.\n",
       "19     Have fun.\n",
       "20     Have fun.\n",
       "21     Have fun.\n",
       "22     I forgot.\n",
       "23     I forgot.\n",
       "24     I'll pay.\n",
       "25     I'm fine.\n",
       "26     I'm full.\n",
       "27     Let's go!\n",
       "28    Answer me.\n",
       "29    Birds fly.\n",
       "30    Excuse me.\n",
       "31    Fantastic!\n",
       "32    I fainted.\n",
       "33    I fear so.\n",
       "34    I laughed.\n",
       "35    I'm bored.\n",
       "36    I'm broke.\n",
       "37    I'm tired.\n",
       "38    It's cold.\n",
       "39    Well done!\n",
       "Name: English, dtype: object"
      ]
     },
     "execution_count": 25,
     "metadata": {},
     "output_type": "execute_result"
    }
   ],
   "source": [
    "df = pd.read_csv('cl.csv')\n",
    "df = df['English']\n",
    "sentences = df.values.tolist()\n",
    "df.head(40)"
   ]
  },
  {
   "cell_type": "code",
   "execution_count": 26,
   "metadata": {},
   "outputs": [],
   "source": [
    "for i, sentence in enumerate(sentences):\n",
    "\ttokenized= []\n",
    "\tfor word in sentence.split(' '):\n",
    "\t\tword = word.split('.')[0]\n",
    "\t\tword = word.lower()\n",
    "\t\ttokenized.append(word)\n",
    "\tsentences[i] = tokenized"
   ]
  },
  {
   "cell_type": "code",
   "execution_count": 40,
   "metadata": {},
   "outputs": [
    {
     "name": "stdout",
     "output_type": "stream",
     "text": [
      "Word2Vec(vocab=2690, size=1, alpha=0.025)\n",
      "Most common word to football is: sent\n",
      "('sent', 1.0)\n"
     ]
    }
   ],
   "source": [
    "model = word2vec.Word2Vec(sentences, workers = 1, size = 1, min_count = 1, window = 1, sg =1)\n",
    "# print(model)\n",
    "# similar_word = model.wv.most_similar('welcome')[0]\n",
    "# print(\"Most common word to football is: {}\".format(similar_word[0]))\n",
    "# print(similar_word)"
   ]
  },
  {
   "cell_type": "code",
   "execution_count": 41,
   "metadata": {},
   "outputs": [
    {
     "data": {
      "text/plain": [
       "array([-0.6606101], dtype=float32)"
      ]
     },
     "execution_count": 41,
     "metadata": {},
     "output_type": "execute_result"
    }
   ],
   "source": [
    "vector = model.wv['answer']\n",
    "vector"
   ]
  },
  {
   "cell_type": "code",
   "execution_count": null,
   "metadata": {},
   "outputs": [],
   "source": []
  }
 ],
 "metadata": {
  "kernelspec": {
   "display_name": "Python 3",
   "language": "python",
   "name": "python3"
  },
  "language_info": {
   "codemirror_mode": {
    "name": "ipython",
    "version": 3
   },
   "file_extension": ".py",
   "mimetype": "text/x-python",
   "name": "python",
   "nbconvert_exporter": "python",
   "pygments_lexer": "ipython3",
   "version": "3.9.2"
  }
 },
 "nbformat": 4,
 "nbformat_minor": 4
}
