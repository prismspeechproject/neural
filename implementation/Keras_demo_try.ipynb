{
 "cells": [
  {
   "cell_type": "code",
   "execution_count": 2,
   "metadata": {},
   "outputs": [
    {
     "name": "stderr",
     "output_type": "stream",
     "text": [
      "WARNING:root:Limited tf.compat.v2.summary API due to missing TensorBoard installation.\n",
      "WARNING:root:Limited tf.compat.v2.summary API due to missing TensorBoard installation.\n",
      "WARNING:root:Limited tf.compat.v2.summary API due to missing TensorBoard installation.\n",
      "WARNING:root:Limited tf.summary API due to missing TensorBoard installation.\n"
     ]
    }
   ],
   "source": [
    "from tensorflow.keras.models import Model\n",
    "from tensorflow.keras.layers import LSTM, Dense, Input\n",
    "import numpy as np\n",
    "import pandas as pd\n",
    "\n",
    "batch_size = 64\n",
    "epochs = 100\n",
    "latent_dim = 256\n",
    "num_samples = 2700\n",
    "filename = 'cl.csv'\n",
    "\n"
   ]
  },
  {
   "cell_type": "code",
   "execution_count": 3,
   "metadata": {},
   "outputs": [],
   "source": [
    "# vectorize the data\n",
    "input_texts = []\n",
    "target_texts = []\n",
    "input_characters = []\n",
    "target_characters = []\n",
    "\n",
    "df = pd.read_csv(filename)\n",
    "input_texts = df['English'].values.tolist()\n",
    "target_texts = df['Hindi'].values.tolist()\n",
    "\n",
    "for i in range(len(target_texts)):\n",
    "    target_texts[i] = '\\t' + target_texts[i] + '\\n'\n",
    "    for char in input_texts[i]:\n",
    "        if char not in input_characters:\n",
    "            input_characters.append(char)\n",
    "    for char in target_texts[i]:\n",
    "        if char not in target_characters:\n",
    "            target_characters.append(char)        "
   ]
  },
  {
   "cell_type": "code",
   "execution_count": 4,
   "metadata": {},
   "outputs": [],
   "source": [
    "input_characters = sorted(list(input_characters))\n",
    "target_characters = sorted(list(target_characters))\n",
    "num_encoder_tokens = len(input_characters)\n",
    "num_decoder_tokens = len(target_characters)\n",
    "max_encoder_seq_len = max([len(txt) for txt in input_texts])\n",
    "max_decoder_seq_len = max([len(txt) for txt in target_texts])"
   ]
  },
  {
   "cell_type": "code",
   "execution_count": 5,
   "metadata": {},
   "outputs": [
    {
     "name": "stdout",
     "output_type": "stream",
     "text": [
      "i/p characters : 70\n",
      "targert characters : 87\n",
      "encoder characters : 70\n",
      "decoder characters : 87\n",
      "max encoder : 107\n",
      "max decoder : 123\n"
     ]
    }
   ],
   "source": [
    "print('i/p characters : {}'.format(len(input_characters)))\n",
    "print('targert characters : {}'.format(len(target_characters)))\n",
    "print('encoder characters : {}'.format(num_encoder_tokens))\n",
    "print('decoder characters : {}'.format(num_decoder_tokens))\n",
    "print('max encoder : {}'.format(max_encoder_seq_len))\n",
    "print('max decoder : {}'.format(max_decoder_seq_len))"
   ]
  },
  {
   "cell_type": "code",
   "execution_count": 6,
   "metadata": {},
   "outputs": [],
   "source": [
    "input_token_index = dict([(char,i) for i,char in enumerate(input_characters)])\n",
    "target_token_index = dict([(char,i) for i,char in enumerate(target_characters)])\n",
    "print(input_token_index)\n",
    "print(target_token_index)"
   ]
  },
  {
   "cell_type": "code",
   "execution_count": 7,
   "metadata": {},
   "outputs": [],
   "source": [
    "encoder_input_data = np.zeros((len(input_texts), max_encoder_seq_len, num_encoder_tokens), dtype='float32')\n",
    "decoder_input_data = np.zeros((len(input_texts), max_decoder_seq_len, num_decoder_tokens), dtype='float32')\n",
    "decoder_target_data = np.zeros((len(input_texts), max_decoder_seq_len, num_decoder_tokens), dtype='float32')"
   ]
  },
  {
   "cell_type": "code",
   "execution_count": 11,
   "metadata": {},
   "outputs": [],
   "source": [
    "for i, (input_text, target_text) in enumerate(zip(input_texts, target_texts)):\n",
    "    for t, char in enumerate(input_text):\n",
    "        encoder_input_data[i, t, input_token_index[char]] = 1.\n",
    "    encoder_input_data[i, t+1:, input_token_index[' ']] = 1.\n",
    "    for t, char in enumerate(target_text):\n",
    "        decoder_input_data[i,t,target_token_index[char]] = 1.\n",
    "        if t > 0:\n",
    "            decoder_target_data[i,t-1,target_token_index[char]] = 1.\n",
    "    decoder_input_data[i,t+1:,target_token_index[' ']] = 1.\n",
    "    decoder_target_data[i,t:,target_token_index[' ']] = 1."
   ]
  },
  {
   "cell_type": "code",
   "execution_count": 13,
   "metadata": {},
   "outputs": [
    {
     "data": {
      "text/plain": [
       "(107, 70)"
      ]
     },
     "execution_count": 13,
     "metadata": {},
     "output_type": "execute_result"
    }
   ],
   "source": [
    "encoder_input_data[0].shape"
   ]
  },
  {
   "cell_type": "code",
   "execution_count": 15,
   "metadata": {},
   "outputs": [],
   "source": [
    "# Define an input sequence and process it\n",
    "encoder_inputs = Input(shape=(None,num_encoder_tokens))\n",
    "encoder=LSTM(latent_dim,return_state=True)\n",
    "encoder_outputs, state_h, state_c=encoder(encoder_inputs)\n",
    "# We discard `encoder_outputs` and only keep the states\n",
    "encoder_states=[state_h,state_c]\n"
   ]
  },
  {
   "cell_type": "code",
   "execution_count": 16,
   "metadata": {},
   "outputs": [],
   "source": [
    "# Set up decoder , using ` encoder_states` as initial state\n",
    "decoder_inputs = Input(shape=(None, num_decoder_tokens))\n",
    "# We set up our decoder to return full output sequences,\n",
    "# and to return internal states as well . we don't use the \n",
    "# return states in the training model , but we will use them in inference.\n",
    "decoder_lstm = LSTM(latent_dim, return_sequences=True, return_state=True)\n",
    "decoder_outputs, _, _ = decoder_lstm(decoder_inputs, initial_state=encoder_states)\n",
    "decoder_dense= Dense(num_decoder_tokens, activation='softmax')\n",
    "decoder_outputs= decoder_dense(decoder_outputs)"
   ]
  },
  {
   "cell_type": "code",
   "execution_count": null,
   "metadata": {},
   "outputs": [
    {
     "name": "stdout",
     "output_type": "stream",
     "text": [
      "Epoch 1/100\n",
      "35/35 [==============================] - 47s 1s/step - loss: 1.8093 - accuracy: 0.7968 - val_loss: 1.5313 - val_accuracy: 0.6872\n",
      "Epoch 2/100\n",
      "35/35 [==============================] - 39s 1s/step - loss: 0.9375 - accuracy: 0.8088 - val_loss: 1.5407 - val_accuracy: 0.6897\n",
      "Epoch 3/100\n",
      "35/35 [==============================] - 40s 1s/step - loss: 0.8495 - accuracy: 0.8077 - val_loss: 1.5999 - val_accuracy: 0.6912\n",
      "Epoch 4/100\n",
      "35/35 [==============================] - 46s 1s/step - loss: 0.8017 - accuracy: 0.8093 - val_loss: 1.4324 - val_accuracy: 0.6969\n",
      "Epoch 5/100\n",
      "35/35 [==============================] - 54s 2s/step - loss: 0.7757 - accuracy: 0.8135 - val_loss: 1.2180 - val_accuracy: 0.7082\n",
      "Epoch 6/100\n",
      "35/35 [==============================] - 57s 2s/step - loss: 0.7073 - accuracy: 0.8242 - val_loss: 1.1463 - val_accuracy: 0.7087\n",
      "Epoch 7/100\n",
      "35/35 [==============================] - 55s 2s/step - loss: 0.6487 - accuracy: 0.8374 - val_loss: 1.0563 - val_accuracy: 0.7320\n",
      "Epoch 8/100\n",
      "35/35 [==============================] - 59s 2s/step - loss: 0.6260 - accuracy: 0.8460 - val_loss: 1.0114 - val_accuracy: 0.7395\n",
      "Epoch 9/100\n",
      "35/35 [==============================] - 52s 1s/step - loss: 0.5706 - accuracy: 0.8540 - val_loss: 0.9799 - val_accuracy: 0.7445\n",
      "Epoch 10/100\n",
      "35/35 [==============================] - 56s 2s/step - loss: 0.5547 - accuracy: 0.8550 - val_loss: 0.9530 - val_accuracy: 0.7497\n",
      "Epoch 11/100\n",
      "35/35 [==============================] - 53s 2s/step - loss: 0.5328 - accuracy: 0.8601 - val_loss: 0.9093 - val_accuracy: 0.7584\n",
      "Epoch 12/100\n",
      "35/35 [==============================] - 55s 2s/step - loss: 0.5261 - accuracy: 0.8605 - val_loss: 0.8989 - val_accuracy: 0.7638\n",
      "Epoch 13/100\n",
      "35/35 [==============================] - 61s 2s/step - loss: 0.5046 - accuracy: 0.8670 - val_loss: 0.8819 - val_accuracy: 0.7686\n",
      "Epoch 14/100\n",
      "35/35 [==============================] - 53s 2s/step - loss: 0.4904 - accuracy: 0.8702 - val_loss: 0.8600 - val_accuracy: 0.7701\n",
      "Epoch 15/100\n",
      "35/35 [==============================] - 52s 1s/step - loss: 0.4861 - accuracy: 0.8703 - val_loss: 0.8619 - val_accuracy: 0.7692\n",
      "Epoch 16/100\n",
      "35/35 [==============================] - 52s 1s/step - loss: 0.4750 - accuracy: 0.8716 - val_loss: 0.8392 - val_accuracy: 0.7755\n",
      "Epoch 17/100\n",
      "35/35 [==============================] - 50s 1s/step - loss: 0.4632 - accuracy: 0.8750 - val_loss: 0.8302 - val_accuracy: 0.7768\n",
      "Epoch 18/100\n",
      "35/35 [==============================] - 52s 1s/step - loss: 0.4538 - accuracy: 0.8766 - val_loss: 0.8209 - val_accuracy: 0.7783\n",
      "Epoch 19/100\n",
      "35/35 [==============================] - 54s 2s/step - loss: 0.4499 - accuracy: 0.8767 - val_loss: 0.8062 - val_accuracy: 0.7817\n",
      "Epoch 20/100\n",
      "35/35 [==============================] - 51s 1s/step - loss: 0.4376 - accuracy: 0.8793 - val_loss: 0.8199 - val_accuracy: 0.7776\n",
      "Epoch 21/100\n",
      "35/35 [==============================] - 52s 1s/step - loss: 0.4370 - accuracy: 0.8797 - val_loss: 0.9417 - val_accuracy: 0.7567\n",
      "Epoch 22/100\n",
      "35/35 [==============================] - 51s 1s/step - loss: 0.4553 - accuracy: 0.8755 - val_loss: 0.7877 - val_accuracy: 0.7833\n",
      "Epoch 23/100\n",
      "13/35 [==========>...................] - ETA: 29s - loss: 0.4178 - accuracy: 0.8830"
     ]
    }
   ],
   "source": [
    "# Define the model that will turn \n",
    "# `encoder_input_data` and `decoder_input_data` into `decoder_target_data`\n",
    "model = Model([encoder_inputs, decoder_inputs], decoder_outputs)\n",
    "\n",
    "# Run training\n",
    "model.compile(optimizer='rmsprop', loss = 'categorical_crossentropy', metrics= ['accuracy'])\n",
    "model.fit([encoder_input_data, decoder_input_data], decoder_target_data, batch_size= batch_size, epochs = epochs , \n",
    "           validation_split=0.2)"
   ]
  },
  {
   "cell_type": "code",
   "execution_count": null,
   "metadata": {},
   "outputs": [],
   "source": []
  }
 ],
 "metadata": {
  "kernelspec": {
   "display_name": "Python 3",
   "language": "python",
   "name": "python3"
  },
  "language_info": {
   "codemirror_mode": {
    "name": "ipython",
    "version": 3
   },
   "file_extension": ".py",
   "mimetype": "text/x-python",
   "name": "python",
   "nbconvert_exporter": "python",
   "pygments_lexer": "ipython3",
   "version": "3.9.1"
  }
 },
 "nbformat": 4,
 "nbformat_minor": 4
}
